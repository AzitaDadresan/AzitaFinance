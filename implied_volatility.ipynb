{
 "cells": [
  {
   "cell_type": "markdown",
   "metadata": {
    "slideshow": {
     "slide_type": "slide"
    }
   },
   "source": [
    "## Implied Volatility"
   ]
  },
  {
   "cell_type": "markdown",
   "metadata": {
    "slideshow": {
     "slide_type": "fragment"
    }
   },
   "source": [
    "Implied volatility (IV) is one of the most important parameter in options pricing. IV is determined by the current market price of option contracts on a particular underlying asset. IV is commonly represented as a percentage that indicates the annualized expected one standard deviation range for the underlying asset implied from the option prices. \n",
    "\n",
    "IV  $\\sigma_{imp}$ is the volatility value $\\sigma$ that makes the Black Scholes value of the option equal to the traded price of the option. In the Black-Scholes model, volatility is the only parameter that can't be directly observed. All other parameters can be determined through market data and this parameter is determined by a numerical optimization technique given the Black-Scholes model."
   ]
  },
  {
   "cell_type": "markdown",
   "metadata": {
    "slideshow": {
     "slide_type": "fragment"
    }
   },
   "source": [
    "**Import Required Libraries**"
   ]
  },
  {
   "cell_type": "code",
   "execution_count": 1,
   "metadata": {
    "slideshow": {
     "slide_type": "fragment"
    },
    "tags": []
   },
   "outputs": [],
   "source": [
    "# Import libraries\n",
    "from numpy import *\n",
    "import pandas as pd\n",
    "from tabulate import tabulate\n",
    "import matplotlib.pyplot as plt\n",
    "from datetime import date, datetime, timedelta\n",
    "\n",
    "from quantmod.derivatives import OptionData \n",
    "from quantmod.models import OptionInputs, BlackScholesOptionPricing\n"
   ]
  },
  {
   "cell_type": "code",
   "execution_count": 2,
   "metadata": {
    "slideshow": {
     "slide_type": "slide"
    }
   },
   "outputs": [],
   "source": [
    "def newton_iv(spot, strike, rate, dte, callprice=None, putprice=None):\n",
    "\n",
    "    x0 =1.                                      # initial guess, type float\n",
    "    h = 0.001                                   # step size \n",
    "    tolerance = 1e-7                            # 7-digit accuracy is desired\n",
    "    epsilon = 1e-14                             # do not divide by a number smaller than this, some kind of error / floor\n",
    "    maxiter = 200                               # maximum number of iterations to execute\n",
    "    \n",
    "    # function whose root we are trying to find\n",
    "    # f(x) = Black Scholes Call price - Market Price - defining the f(x) here\n",
    "    if callprice:\n",
    "        f = lambda x: BlackScholesOptionPricing(OptionInputs(spot=spot, strike=strike, rate=rate, ttm=dte, volatility=x)).call_price - callprice\n",
    "    if putprice:\n",
    "        f = lambda x: BlackScholesOptionPricing(OptionInputs(spot=spot, strike=strike, rate=rate, ttm=dte, volatility=x)).putPrice - putprice\n",
    "        \n",
    "    for i in range(maxiter):\n",
    "        y = f(x0)                               # starting with initial guess\n",
    "        yprime = (f(x0+h) - f(x0-h))/(2*h)      # central difference, the derivative of the function\n",
    "        \n",
    "        if abs(yprime)<epsilon:                 # stop if the denominator is too small\n",
    "            break                              \n",
    "        x1 = x0 - y/yprime                      # perform Newton's computation\n",
    "        \n",
    "        if (abs(x1-x0) <= tolerance*abs(x1)):   # stop when the result is within the desired tolerance\n",
    "            break\n",
    "        x0=x1                                   # update x0 to start the process again\n",
    "        \n",
    "    return x1                                   # x1 is a solution within tolerance and maximum number of iterations"
   ]
  },
  {
   "cell_type": "code",
   "execution_count": 3,
   "metadata": {
    "slideshow": {
     "slide_type": "fragment"
    }
   },
   "outputs": [
    {
     "data": {
      "text/plain": [
       "0.13377582588953527"
      ]
     },
     "execution_count": 3,
     "metadata": {},
     "output_type": "execute_result"
    }
   ],
   "source": [
    "# newton iv\n",
    "newton_iv(100,100,0.05,1, callprice=8)"
   ]
  },
  {
   "cell_type": "code",
   "execution_count": 4,
   "metadata": {},
   "outputs": [
    {
     "data": {
      "text/plain": [
       "7.9999999999999645"
      ]
     },
     "execution_count": 4,
     "metadata": {},
     "output_type": "execute_result"
    }
   ],
   "source": [
    "# verfiy the output\n",
    "BlackScholesOptionPricing(OptionInputs(spot=100, strike=100, rate=0.05, ttm=1, volatility=0.13377582588953527)).call_price"
   ]
  },
  {
   "cell_type": "markdown",
   "metadata": {
    "slideshow": {
     "slide_type": "slide"
    }
   },
   "source": [
    "### Bisection Method\n",
    "The bisection method is considered to be one of the simplest and robust root finding algorithm. \n",
    "\n",
    "Suppose, we know the two points of an interval $a$ and $b$, where $a<b$ and $f(a)<0$ and $f(b)>0$ lie along the continuous function and the mid-point of this interval $c = \\frac{a+b}{2}$, then we can evaluate the value as $f(c)$.\n",
    "\n",
    "Iteratively, we replace $c$ as either $a$ or $b$, thereby shortening the interval to find the root. If $f(c) = 0$ or within acceptable value, we have a root. Bisection methods are stable and guarantee to converge. As it does not require knowledge of the derivative, it takes more computational time."
   ]
  },
  {
   "cell_type": "code",
   "execution_count": 5,
   "metadata": {
    "slideshow": {
     "slide_type": "slide"
    }
   },
   "outputs": [],
   "source": [
    "# Bisection Method\n",
    "def bisection_iv(spot, strike, rate, dte, callprice=None, putprice=None, high=500.0, low=0.0):\n",
    "    \n",
    "    # this is market price\n",
    "    if callprice:\n",
    "        market_price = callprice\n",
    "    if putprice and not callprice:\n",
    "        market_price = putprice\n",
    "        \n",
    "    tolerance = 1e-7\n",
    "        \n",
    "    for i in range(1000):\n",
    "        mid = (high + low) / 2             # c= (a+b)/2\n",
    "        if mid < tolerance:\n",
    "            mid = tolerance\n",
    "            \n",
    "        if callprice:\n",
    "            blackscholes_price = BlackScholesOptionPricing(OptionInputs(spot = spot,strike = strike,rate = rate,ttm = dte,volatility = mid,)).call_price\n",
    "        if putprice:\n",
    "            blackscholes_price = BlackScholesOptionPricing(OptionInputs(spot = spot,strike = strike,rate = rate,ttm = dte,volatility = mid,)).put_price\n",
    "        \n",
    "        if round(blackscholes_price,7) == market_price:\n",
    "            break\n",
    "        elif blackscholes_price > market_price: \n",
    "            high = mid                      # replace c with b | b = c\n",
    "        elif blackscholes_price < market_price: \n",
    "            low = mid                       # replace c with a | a = c\n",
    "    \n",
    "    return mid"
   ]
  },
  {
   "cell_type": "code",
   "execution_count": 6,
   "metadata": {
    "slideshow": {
     "slide_type": "fragment"
    }
   },
   "outputs": [
    {
     "data": {
      "text/plain": [
       "0.17657213902566582"
      ]
     },
     "execution_count": 6,
     "metadata": {},
     "output_type": "execute_result"
    }
   ],
   "source": [
    "# bisection iv\n",
    "bisection_iv(100,100,0.02,1,callprice=8.)"
   ]
  },
  {
   "cell_type": "markdown",
   "metadata": {},
   "source": [
    "## BS Implied Volatility\n",
    "Let's now update our Blackscholes' class to incorporate implied volatility."
   ]
  },
  {
   "cell_type": "code",
   "execution_count": 7,
   "metadata": {
    "tags": []
   },
   "outputs": [
    {
     "name": "stdout",
     "output_type": "stream",
     "text": [
      "  Option Price    Delta      Gamma      Theta      Vega       Rho        IV\n",
      "--------------  -------  ---------  ---------  --------  --------  --------\n",
      "       8.91604  0.57926  0.0195521  -0.013399  0.391043  0.490099  0.176572\n"
     ]
    }
   ],
   "source": [
    "# Initialize option\n",
    "option = BlackScholesOptionPricing(OptionInputs(spot = 100, strike = 100, rate = 0.02, ttm = 1, volatility = 0.2, callprice=8))\n",
    "\n",
    "header = ['Option Price', 'Delta', 'Gamma', 'Theta', 'Vega', 'Rho', 'IV']\n",
    "table = [[option.call_price, option.call_delta, option.gamma, option.call_theta, option.vega, option.call_rho, option.impvol]]\n",
    "\n",
    "print(tabulate(table,header))"
   ]
  },
  {
   "cell_type": "code",
   "execution_count": 8,
   "metadata": {},
   "outputs": [
    {
     "name": "stdout",
     "output_type": "stream",
     "text": [
      "  Option Price     Delta      Gamma        Theta      Vega        Rho        IV\n",
      "--------------  --------  ---------  -----------  --------  ---------  --------\n",
      "        6.9359  -0.42074  0.0195521  -0.00802802  0.391043  -0.490099  0.227215\n"
     ]
    }
   ],
   "source": [
    "# Initialize option\n",
    "option = BlackScholesOptionPricing(OptionInputs(spot = 100, strike = 100, rate = 0.02, ttm = 1, volatility = 0.2, putprice=8))\n",
    "\n",
    "header = ['Option Price', 'Delta', 'Gamma', 'Theta', 'Vega', 'Rho', 'IV']\n",
    "table = [[option.put_price, option.put_delta, option.gamma, option.put_theta, option.vega, option.put_rho, option.impvol]]\n",
    "\n",
    "print(tabulate(table,header))"
   ]
  },
  {
   "cell_type": "markdown",
   "metadata": {},
   "source": [
    "## Nifty Option\n",
    "We will extend the option analysis carried out from Lab 5 to build IV Skew function. \n",
    "\n",
    "`Note`: You will need to update the quantmod library to version 0.0.6 to use Indian options data."
   ]
  },
  {
   "cell_type": "markdown",
   "metadata": {},
   "source": [
    "### Query Option Chain"
   ]
  },
  {
   "cell_type": "code",
   "execution_count": 9,
   "metadata": {},
   "outputs": [
    {
     "data": {
      "text/html": [
       "<div>\n",
       "<style scoped>\n",
       "    .dataframe tbody tr th:only-of-type {\n",
       "        vertical-align: middle;\n",
       "    }\n",
       "\n",
       "    .dataframe tbody tr th {\n",
       "        vertical-align: top;\n",
       "    }\n",
       "\n",
       "    .dataframe thead th {\n",
       "        text-align: right;\n",
       "    }\n",
       "</style>\n",
       "<table border=\"1\" class=\"dataframe\">\n",
       "  <thead>\n",
       "    <tr style=\"text-align: right;\">\n",
       "      <th></th>\n",
       "      <th>strikePrice</th>\n",
       "      <th>expiryDate</th>\n",
       "      <th>underlying</th>\n",
       "      <th>identifier</th>\n",
       "      <th>openInterest</th>\n",
       "      <th>changeinOpenInterest</th>\n",
       "      <th>pchangeinOpenInterest</th>\n",
       "      <th>totalTradedVolume</th>\n",
       "      <th>impliedVolatility</th>\n",
       "      <th>lastPrice</th>\n",
       "      <th>change</th>\n",
       "      <th>pChange</th>\n",
       "      <th>totalBuyQuantity</th>\n",
       "      <th>totalSellQuantity</th>\n",
       "      <th>bidQty</th>\n",
       "      <th>bidprice</th>\n",
       "      <th>askQty</th>\n",
       "      <th>askPrice</th>\n",
       "      <th>underlyingValue</th>\n",
       "    </tr>\n",
       "  </thead>\n",
       "  <tbody>\n",
       "    <tr>\n",
       "      <th>0</th>\n",
       "      <td>23500</td>\n",
       "      <td>24-Apr-2025</td>\n",
       "      <td>NIFTY</td>\n",
       "      <td>OPTIDXNIFTY24-04-2025CE23500.00</td>\n",
       "      <td>61855</td>\n",
       "      <td>-5787</td>\n",
       "      <td>-8.555335</td>\n",
       "      <td>27703</td>\n",
       "      <td>20.85</td>\n",
       "      <td>569.45</td>\n",
       "      <td>139.1</td>\n",
       "      <td>32.322528</td>\n",
       "      <td>850500</td>\n",
       "      <td>49650</td>\n",
       "      <td>75</td>\n",
       "      <td>567.85</td>\n",
       "      <td>225</td>\n",
       "      <td>569.15</td>\n",
       "      <td>24043.8</td>\n",
       "    </tr>\n",
       "    <tr>\n",
       "      <th>1</th>\n",
       "      <td>23550</td>\n",
       "      <td>24-Apr-2025</td>\n",
       "      <td>NIFTY</td>\n",
       "      <td>OPTIDXNIFTY24-04-2025CE23550.00</td>\n",
       "      <td>1894</td>\n",
       "      <td>-795</td>\n",
       "      <td>-29.564894</td>\n",
       "      <td>2923</td>\n",
       "      <td>20.82</td>\n",
       "      <td>523.50</td>\n",
       "      <td>129.8</td>\n",
       "      <td>32.969266</td>\n",
       "      <td>104100</td>\n",
       "      <td>35775</td>\n",
       "      <td>75</td>\n",
       "      <td>520.50</td>\n",
       "      <td>75</td>\n",
       "      <td>523.10</td>\n",
       "      <td>24043.8</td>\n",
       "    </tr>\n",
       "  </tbody>\n",
       "</table>\n",
       "</div>"
      ],
      "text/plain": [
       "   strikePrice   expiryDate underlying                       identifier  \\\n",
       "0        23500  24-Apr-2025      NIFTY  OPTIDXNIFTY24-04-2025CE23500.00   \n",
       "1        23550  24-Apr-2025      NIFTY  OPTIDXNIFTY24-04-2025CE23550.00   \n",
       "\n",
       "   openInterest  changeinOpenInterest  pchangeinOpenInterest  \\\n",
       "0         61855                 -5787              -8.555335   \n",
       "1          1894                  -795             -29.564894   \n",
       "\n",
       "   totalTradedVolume  impliedVolatility  lastPrice  change    pChange  \\\n",
       "0              27703              20.85     569.45   139.1  32.322528   \n",
       "1               2923              20.82     523.50   129.8  32.969266   \n",
       "\n",
       "   totalBuyQuantity  totalSellQuantity  bidQty  bidprice  askQty  askPrice  \\\n",
       "0            850500              49650      75    567.85     225    569.15   \n",
       "1            104100              35775      75    520.50      75    523.10   \n",
       "\n",
       "   underlyingValue  \n",
       "0          24043.8  \n",
       "1          24043.8  "
      ]
     },
     "execution_count": 9,
     "metadata": {},
     "output_type": "execute_result"
    }
   ],
   "source": [
    "# Instantiate the Option Data\n",
    "opt = OptionData(\"NIFTY\", \"24-Apr-2025\")\n",
    "df = opt.get_call_option_data\n",
    "\n",
    "# query strikes between 23500 and 24500\n",
    "df = df.query('strikePrice>=23500 and strikePrice<=24500').reset_index(drop=True)\n",
    "df.head(2)"
   ]
  },
  {
   "cell_type": "markdown",
   "metadata": {},
   "source": [
    "### IV Skew\n",
    "Create a user defined function to calculate the IV Skew"
   ]
  },
  {
   "cell_type": "code",
   "execution_count": 10,
   "metadata": {},
   "outputs": [],
   "source": [
    "def ivskew(spot, rate, valuation, expiration, frame):\n",
    "    \n",
    "    dte = (pd.to_datetime(expiration+' 15:30:00') - pd.to_datetime(valuation)) / timedelta(days=365)\n",
    "\n",
    "    # Instantiate BS Pricing Engine from quantmod and Derive Implied Volatiliy\n",
    "    for i in range(len(frame)):\n",
    "        nifty = BlackScholesOptionPricing(\n",
    "            OptionInputs(\n",
    "                spot = spot,\n",
    "                strike = frame['strikePrice'].iloc[i], \n",
    "                rate = rate,\n",
    "                ttm = dte,\n",
    "                volatility = 0.20,\n",
    "                callprice = frame['lastPrice'].iloc[i]\n",
    "                )\n",
    "            )\n",
    "            \n",
    "        frame.loc[i, 'IV'] = nifty.impvol\n",
    "    frame.set_index('strikePrice', inplace=True)\n",
    "        \n",
    "    return frame['IV']"
   ]
  },
  {
   "cell_type": "code",
   "execution_count": 11,
   "metadata": {},
   "outputs": [
    {
     "data": {
      "text/plain": [
       "strikePrice\n",
       "23500    0.319453\n",
       "23550    0.308411\n",
       "Name: IV, dtype: float64"
      ]
     },
     "execution_count": 11,
     "metadata": {},
     "output_type": "execute_result"
    }
   ],
   "source": [
    "# call the iv skew function\n",
    "ivskew(22850, 0,'25-Mar-2025', '24-Apr-2025', df).head(2)"
   ]
  },
  {
   "cell_type": "code",
   "execution_count": null,
   "metadata": {},
   "outputs": [],
   "source": [
    "# Set expiry list\n",
    "expiry_list = ['09-Apr-2025' , '24-Apr-2025']\n",
    "\n",
    "# Initialise empty dataframe\n",
    "call_price = pd.DataFrame()\n",
    "call_vols = pd.DataFrame()\n",
    "\n",
    "for expiry in expiry_list:\n",
    "    \n",
    "    opt = OptionData(\"NIFTY\", expiry)\n",
    "    df = (opt.get_call_option_data\n",
    "          .query('strikePrice>=23500 and strikePrice<=24500').reset_index(drop=True)\n",
    "    )\n",
    "            \n",
    "    call_price[expiry] = df['lastPrice']\n",
    "    call_vols[expiry] = ivskew(22850, 0, '25-Mar-2025', expiry, df)\n"
   ]
  },
  {
   "cell_type": "code",
   "execution_count": null,
   "metadata": {},
   "outputs": [],
   "source": [
    "# Verify Call IV\n",
    "call_vols"
   ]
  },
  {
   "cell_type": "markdown",
   "metadata": {},
   "source": [
    "### Visualize"
   ]
  },
  {
   "cell_type": "code",
   "execution_count": null,
   "metadata": {},
   "outputs": [],
   "source": [
    "# plot IV Skew & Term Structure\n",
    "plt.plot(call_vols.index, call_vols)\n",
    "plt.title('IV Skew & Term Structure')\n",
    "plt.xlabel('Strike Price')\n",
    "plt.ylabel('Implied Volatility')\n",
    "plt.legend(call_vols.columns)\n",
    "plt.show()"
   ]
  }
 ],
 "metadata": {
  "kernelspec": {
   "display_name": "Python 3",
   "language": "python",
   "name": "python3"
  },
  "language_info": {
   "codemirror_mode": {
    "name": "ipython",
    "version": 3
   },
   "file_extension": ".py",
   "mimetype": "text/x-python",
   "name": "python",
   "nbconvert_exporter": "python",
   "pygments_lexer": "ipython3",
   "version": "3.12.4"
  },
  "nbTranslate": {
   "displayLangs": [
    "*"
   ],
   "hotkey": "alt-t",
   "langInMainMenu": true,
   "sourceLang": "en",
   "targetLang": "fr",
   "useGoogleTranslate": true
  },
  "toc": {
   "base_numbering": 1,
   "nav_menu": {},
   "number_sections": true,
   "sideBar": true,
   "skip_h1_title": true,
   "title_cell": "Table of Contents",
   "title_sidebar": "Contents",
   "toc_cell": false,
   "toc_position": {
    "height": "calc(100% - 180px)",
    "left": "10px",
    "top": "150px",
    "width": "211.65625px"
   },
   "toc_section_display": true,
   "toc_window_display": true
  },
  "toc-autonumbering": false,
  "varInspector": {
   "cols": {
    "lenName": 16,
    "lenType": 16,
    "lenVar": 40
   },
   "kernels_config": {
    "python": {
     "delete_cmd_postfix": "",
     "delete_cmd_prefix": "del ",
     "library": "var_list.py",
     "varRefreshCmd": "print(var_dic_list())"
    },
    "r": {
     "delete_cmd_postfix": ") ",
     "delete_cmd_prefix": "rm(",
     "library": "var_list.r",
     "varRefreshCmd": "cat(var_dic_list()) "
    }
   },
   "types_to_exclude": [
    "module",
    "function",
    "builtin_function_or_method",
    "instance",
    "_Feature"
   ],
   "window_display": false
  }
 },
 "nbformat": 4,
 "nbformat_minor": 4
}
